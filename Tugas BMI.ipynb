{
 "cells": [
  {
   "cell_type": "markdown",
   "metadata": {},
   "source": [
    "### Menentukan Body Mass Index (BMI)\n",
    "      oleh Bagus Kharisma Nusantara"
   ]
  },
  {
   "cell_type": "markdown",
   "metadata": {},
   "source": [
    "Weight (w) dalam kg."
   ]
  },
  {
   "cell_type": "markdown",
   "metadata": {},
   "source": [
    "Height (h) dalam cm (pada perhitungan harus dikonversi ke m)."
   ]
  },
  {
   "cell_type": "markdown",
   "metadata": {},
   "source": [
    "BMI = Weight (kg) / Height^2 (m^2) = w / (h/100)^2"
   ]
  },
  {
   "cell_type": "code",
   "execution_count": 2,
   "metadata": {},
   "outputs": [
    {
     "name": "stdout",
     "output_type": "stream",
     "text": [
      "Weight (kg)           =  40 kg\n",
      "Height (cm)           =  155 cm\n",
      "Body Mass Index (BMI) =  16.649323621227886\n",
      "Kategori BMI          =  Underweight\n",
      "\n",
      "Program selesai.\n"
     ]
    }
   ],
   "source": [
    "# Masukan variabel Weight (kg) dan Height (cm)\n",
    "w=40\n",
    "h=155\n",
    "\n",
    "# Menghitung BMI (height diubah dari cm ke m dengan dibagi 100)\n",
    "bmi=w/(h/100)**2\n",
    "\n",
    "# Menampilkan masukkan variabel dan hasil perhitungan BMI\n",
    "print(\"Weight (kg)           = \",w,\"kg\")\n",
    "print(\"Height (cm)           = \",h,\"cm\")\n",
    "print(\"Body Mass Index (BMI) = \",bmi)\n",
    "\n",
    "# Menampilkan kategori BMI sesuai perhitungan\n",
    "if bmi<15:\n",
    "    print(\"Kategori BMI          =  Very severely underweight\")\n",
    "elif bmi>=15 and bmi<16:\n",
    "    print(\"Kategori BMI          =  Severely underweight\")\n",
    "elif bmi>=16 and bmi<18.5:\n",
    "    print(\"Kategori BMI          =  Underweight\")\n",
    "elif bmi>=18.5 and bmi<25:\n",
    "    print(\"Kategori BMI          =  Normal (healthy weight)\")\n",
    "elif bmi>=25 and bmi<30:\n",
    "    print(\"Kategori BMI          =  Overweight\")\n",
    "elif bmi>=30 and bmi<35:\n",
    "    print(\"Kategori BMI          =  Moderately obese\")\n",
    "elif bmi>=35 and bmi<40:\n",
    "    print(\"Kategori BMI          =  Severely obese\")\n",
    "else: print(\"Kategori BMI          =  Very severely obese\")\n",
    "    \n",
    "print()\n",
    "print(\"Program selesai.\")"
   ]
  },
  {
   "cell_type": "code",
   "execution_count": 3,
   "metadata": {},
   "outputs": [
    {
     "name": "stdout",
     "output_type": "stream",
     "text": [
      "Weight (kg)           =  40 kg\n",
      "Height (cm)           =  155 cm\n",
      "Body Mass Index (BMI) =  16.649323621227886\n",
      "Kategori BMI          =  Underweight\n",
      "\n",
      "Program selesai.\n"
     ]
    }
   ],
   "source": [
    "# Masukan variabel Weight (kg) dan Height (cm)\n",
    "w=40\n",
    "h=155\n",
    "\n",
    "# Menghitung BMI (height diubah dari cm ke m dengan dibagi 100)\n",
    "bmi=w/(h/100)**2\n",
    "\n",
    "# Menampilkan masukkan variabel dan hasil perhitungan BMI\n",
    "print(\"Weight (kg)           = \",w,\"kg\")\n",
    "print(\"Height (cm)           = \",h,\"cm\")\n",
    "print(\"Body Mass Index (BMI) = \",bmi)\n",
    "\n",
    "# Menampilkan kategori BMI sesuai perhitungan\n",
    "if bmi<15:\n",
    "    print(\"Kategori BMI          =  Very severely underweight\")\n",
    "elif bmi<16:\n",
    "    print(\"Kategori BMI          =  Severely underweight\")\n",
    "elif bmi<18.5:\n",
    "    print(\"Kategori BMI          =  Underweight\")\n",
    "elif bmi<25:\n",
    "    print(\"Kategori BMI          =  Normal (healthy weight)\")\n",
    "elif bmi<30:\n",
    "    print(\"Kategori BMI          =  Overweight\")\n",
    "elif bmi<35:\n",
    "    print(\"Kategori BMI          =  Moderately obese\")\n",
    "elif bmi<40:\n",
    "    print(\"Kategori BMI          =  Severely obese\")\n",
    "else: print(\"Kategori BMI          =  Very severely obese\")\n",
    "    \n",
    "print()\n",
    "print(\"Program selesai.\")"
   ]
  }
 ],
 "metadata": {
  "kernelspec": {
   "display_name": "Python 3",
   "language": "python",
   "name": "python3"
  },
  "language_info": {
   "codemirror_mode": {
    "name": "ipython",
    "version": 3
   },
   "file_extension": ".py",
   "mimetype": "text/x-python",
   "name": "python",
   "nbconvert_exporter": "python",
   "pygments_lexer": "ipython3",
   "version": "3.7.0"
  }
 },
 "nbformat": 4,
 "nbformat_minor": 2
}
