{
 "cells": [
  {
   "cell_type": "markdown",
   "metadata": {},
   "source": [
    "## LATIHAN 2 - Bagus Kharisma Nusantara (Kelas A)\n",
    "\n",
    "Diberikan sekumpulan Nilai Random antara 0 sampai dengan 100 sebanyak 250 nilai. Buatlah program untuk melakukan hal berikut:\n",
    "1. Tampilkan Angka Ganjil dari ke 250 nilai tersebut\n",
    "2. Tampilkan berapa banyak yang mendapatkan nilai lebih dari 70\n",
    "3. Tampilkan standar deviasi dari sekumpulan nilai tersebut\n",
    "4. Tampilkan nilai maksimum dan minimum\n",
    "5. Tampilkan modus dari sekumpulan nilai tersebut"
   ]
  },
  {
   "cell_type": "code",
   "execution_count": 281,
   "metadata": {},
   "outputs": [
    {
     "name": "stdout",
     "output_type": "stream",
     "text": [
      "# List nilainya adalah:\n",
      "[34, 74, 42, 69, 6, 70, 71, 96, 74, 98, 17, 14, 39, 63, 20, 99, 21, 58, 8, 7, 61, 78, 98, 56, 92, 62, 49, 13, 48, 22, 77, 51, 40, 72, 45, 66, 17, 83, 44, 36, 24, 31, 78, 72, 25, 86, 98, 11, 55, 75, 75, 78, 56, 69, 52, 37, 37, 89, 81, 86, 90, 76, 51, 50, 50, 69, 19, 54, 88, 81, 84, 90, 54, 6, 83, 40, 29, 76, 51, 88, 97, 62, 98, 37, 32, 58, 24, 39, 5, 63, 26, 69, 63, 86, 94, 17, 70, 98, 75, 30, 26, 72, 56, 85, 39, 1, 78, 79, 96, 25, 47, 28, 17, 19, 72, 69, 51, 60, 71, 66, 57, 49, 8, 55, 9, 37, 30, 96, 93, 85, 43, 63, 73, 54, 44, 10, 71, 56, 46, 21, 5, 43, 73, 5, 97, 69, 84, 80, 80, 33, 29, 98, 23, 49, 11, 80, 34, 17, 55, 71, 24, 69, 89, 50, 74, 5, 24, 89, 69, 56, 61, 70, 70, 35, 97, 65, 84, 73, 64, 20, 51, 16, 76, 73, 56, 8, 14, 52, 91, 3, 45, 86, 23, 95, 45, 88, 82, 13, 78, 56, 62, 93, 38, 85, 43, 38, 46, 80, 36, 5, 2, 94, 13, 42, 74, 81, 38, 68, 55, 33, 77, 75, 15, 81, 85, 42, 96, 88, 76, 81, 75, 49, 30, 35, 40, 34, 13, 90, 91, 65, 47, 45, 76, 23, 8, 29, 73, 92, 7, 42]\n"
     ]
    }
   ],
   "source": [
    "import random\n",
    "\n",
    "# GENERATE RANDOM\n",
    "nilaiTugas = []\n",
    "for i in range(250):\n",
    "    nilaiTugas.append(random.randrange(1,100,1))\n",
    "    \n",
    "print(\"# List nilainya adalah:\")\n",
    "print(nilaiTugas)"
   ]
  },
  {
   "cell_type": "code",
   "execution_count": 282,
   "metadata": {},
   "outputs": [
    {
     "name": "stdout",
     "output_type": "stream",
     "text": [
      "1. Nilai-nilai ganjil pada list nilai adalah:\n",
      "[69, 71, 17, 39, 63, 99, 21, 7, 61, 49, 13, 77, 51, 45, 17, 83, 31, 25, 11, 55, 75, 75, 69, 37, 37, 89, 81, 51, 69, 19, 81, 83, 29, 51, 97, 37, 39, 5, 63, 69, 63, 17, 75, 85, 39, 1, 79, 25, 47, 17, 19, 69, 51, 71, 57, 49, 55, 9, 37, 93, 85, 43, 63, 73, 71, 21, 5, 43, 73, 5, 97, 69, 33, 29, 23, 49, 11, 17, 55, 71, 69, 89, 5, 89, 69, 61, 35, 97, 65, 73, 51, 73, 91, 3, 45, 23, 95, 45, 13, 93, 85, 43, 5, 13, 81, 55, 33, 77, 75, 15, 81, 85, 81, 75, 49, 35, 13, 91, 65, 47, 45, 23, 29, 73, 7]\n"
     ]
    }
   ],
   "source": [
    "# 1. Tampilkan angka-angka ganjil\n",
    "nilaiTugasGanjil = []\n",
    "for i in nilaiTugas:\n",
    "    if i%2==1:\n",
    "        nilaiTugasGanjil.append(i)\n",
    "print(\"1. Nilai-nilai ganjil pada list nilai adalah:\")\n",
    "print(nilaiTugasGanjil)"
   ]
  },
  {
   "cell_type": "code",
   "execution_count": 283,
   "metadata": {},
   "outputs": [
    {
     "name": "stdout",
     "output_type": "stream",
     "text": [
      "2. Yang mendapatkan nilai lebih dari 70 ada sebanyak: 91 siswa\n",
      "[74, 71, 96, 74, 98, 99, 78, 98, 92, 77, 72, 83, 78, 72, 86, 98, 75, 75, 78, 89, 81, 86, 90, 76, 88, 81, 84, 90, 83, 76, 88, 97, 98, 86, 94, 98, 75, 72, 85, 78, 79, 96, 72, 71, 96, 93, 85, 73, 71, 73, 97, 84, 80, 80, 98, 80, 71, 89, 74, 89, 97, 84, 73, 76, 73, 91, 86, 95, 88, 82, 78, 93, 85, 80, 94, 74, 81, 77, 75, 81, 85, 96, 88, 76, 81, 75, 90, 91, 76, 73, 92]\n"
     ]
    }
   ],
   "source": [
    "# 2. Tampilkan berapa banyak yang mendapatkan nilai > 70\n",
    "nilaiTugas70 = []\n",
    "for i in nilaiTugas:\n",
    "    if i>70:\n",
    "        nilaiTugas70.append(i)\n",
    "print(\"2. Yang mendapatkan nilai lebih dari 70 ada sebanyak:\",len(nilaiTugas70),\"siswa\")\n",
    "print(nilaiTugas70)"
   ]
  },
  {
   "cell_type": "code",
   "execution_count": 284,
   "metadata": {},
   "outputs": [
    {
     "name": "stdout",
     "output_type": "stream",
     "text": [
      "3. Menghitung Standar Deviasi dari list nilai\n",
      "Mean (rata-rata) dari list nilai adalah: 13715 / 250 = 54.86\n",
      "Variance dari list nilai adalah: 187224.0999999998 / 249 = 751.9040160642562\n",
      "Standar deviasi dari list nilai adalah: √ 751.9040160642562 = 27.420868258759718\n"
     ]
    }
   ],
   "source": [
    "# 3. Tampilkan berapa standar deviasinya\n",
    "print(\"3. Menghitung Standar Deviasi dari list nilai\")\n",
    "\n",
    "# PERTAMA - Hitung mean dari nilaiTugas\n",
    "total=0\n",
    "for i in nilaiTugas:\n",
    "    total=total+i\n",
    "mean=total/len(nilaiTugas)\n",
    "print(\"Mean (rata-rata) dari list nilai adalah:\",total,\"/\",len(nilaiTugas),\"=\",mean)\n",
    "\n",
    "# KEDUA - Hitung Variance-nya\n",
    "## Semua nilai di nilaiTugas dikurangi dengan Mean, lalu masing-masing dikuadratkan. \n",
    "## Semua nilai lalu dijumlahkan dan dibagi dengan n-1\n",
    "total2=0\n",
    "for i in nilaiTugas:\n",
    "    total2=total2+(i-mean)**2\n",
    "variance=total2 / (len(nilaiTugas)-1)\n",
    "print(\"Variance dari list nilai adalah:\",total2,\"/\",len(nilaiTugas)-1,\"=\",variance)\n",
    "\n",
    "# KETIGA - Hitung Standar Deviasi dengan cara menghitung akar dari Variance\n",
    "import math\n",
    "stdv = math.sqrt(variance)\n",
    "print(\"Standar deviasi dari list nilai adalah: √\",variance,\"=\",stdv)"
   ]
  },
  {
   "cell_type": "code",
   "execution_count": 285,
   "metadata": {},
   "outputs": [
    {
     "name": "stdout",
     "output_type": "stream",
     "text": [
      "4. Nilai maksimum dari list nilai adalah: 99\n",
      "   Nilai minimum  dari list nilai adalah: 1\n"
     ]
    }
   ],
   "source": [
    "# 4. Tampilkan nilai maksimum dan minimum\n",
    "x=nilaiTugas[0]\n",
    "n=nilaiTugas[0]\n",
    "for i in nilaiTugas:\n",
    "    if x<i:\n",
    "        x=i\n",
    "    if n>i:\n",
    "        n=i\n",
    "print(\"4. Nilai maksimum dari list nilai adalah:\",x)\n",
    "print(\"   Nilai minimum  dari list nilai adalah:\",n)\n",
    "    "
   ]
  },
  {
   "cell_type": "code",
   "execution_count": 286,
   "metadata": {},
   "outputs": [
    {
     "name": "stdout",
     "output_type": "stream",
     "text": [
      "5. Modus dari list nilai adalah: [69] yang muncul sebanyak 8 kali\n",
      "# List nilai dengan frekuensi kemunculannya:\n",
      "{1: 1, 2: 1, 3: 1, 5: 5, 6: 2, 7: 2, 8: 4, 9: 1, 10: 1, 11: 2, 13: 4, 14: 2, 15: 1, 16: 1, 17: 5, 19: 2, 20: 2, 21: 2, 22: 1, 23: 3, 24: 4, 25: 2, 26: 2, 28: 1, 29: 3, 30: 3, 31: 1, 32: 1, 33: 2, 34: 3, 35: 2, 36: 2, 37: 4, 38: 3, 39: 3, 40: 3, 42: 4, 43: 3, 44: 2, 45: 4, 46: 2, 47: 2, 48: 1, 49: 4, 50: 3, 51: 5, 52: 2, 54: 3, 55: 4, 56: 7, 57: 1, 58: 2, 60: 1, 61: 2, 62: 3, 63: 4, 64: 1, 65: 2, 66: 2, 68: 1, 69: 8, 70: 4, 71: 4, 72: 4, 73: 5, 74: 4, 75: 5, 76: 5, 77: 2, 78: 5, 79: 1, 80: 4, 81: 5, 82: 1, 83: 2, 84: 3, 85: 4, 86: 4, 88: 4, 89: 3, 90: 3, 91: 2, 92: 2, 93: 2, 94: 2, 95: 1, 96: 4, 97: 3, 98: 6, 99: 1}\n"
     ]
    }
   ],
   "source": [
    "# 5. Tampilkan Modus (nilai yang sering muncul) dari sekumpulan data tersebut\n",
    "\n",
    "## Membuat dictionary urut dari nilai min s.d. max dengan key \"nilai\" dan value \"frekuensi muncul\"\n",
    "nilaiTugasModus = {}\n",
    "frekuensi = 0\n",
    "for i in range(n,x+1):\n",
    "    if i in nilaiTugas: # Jika i tidak ada pada list nilai, maka tidak dimasukkan ke dictionary\n",
    "        j=0\n",
    "        for m in nilaiTugas:\n",
    "            if m==i:\n",
    "                j=j+1\n",
    "        nilaiTugasModus[i]=j\n",
    "        if frekuensi<j: frekuensi=j #Sekaligus mencari frekuensi (berapa kali muncul) tertinggi kemunculan suatu angka\n",
    "\n",
    "## Membandingkan frekuensi nilai di dictionary dengan frekuensi tertinggi yang didapatkan sebelumnya\n",
    "## Bisa jadi ada lebih dari 1 nilai yang muncul paling sering, maka dari itu, Modus saya buat sebagai List\n",
    "## Jika frekuensi tertinggi = 1 (tidak ada pengulangan kemunculan), maka tidak ada Modus\n",
    "modus = []\n",
    "if frekuensi!=1:\n",
    "    for k,v in nilaiTugasModus.items():\n",
    "        if v==frekuensi: modus.append(k)\n",
    "    print(\"5. Modus dari list nilai adalah:\",modus,\"yang muncul sebanyak\",frekuensi,\"kali\")\n",
    "else:\n",
    "    print(\"5. Modus dari list nilai adalah: Tidak ada Modus\")\n",
    "print(\"# List nilai dengan frekuensi kemunculannya:\")\n",
    "print(nilaiTugasModus)"
   ]
  }
 ],
 "metadata": {
  "kernelspec": {
   "display_name": "Python 3",
   "language": "python",
   "name": "python3"
  },
  "language_info": {
   "codemirror_mode": {
    "name": "ipython",
    "version": 3
   },
   "file_extension": ".py",
   "mimetype": "text/x-python",
   "name": "python",
   "nbconvert_exporter": "python",
   "pygments_lexer": "ipython3",
   "version": "3.7.0"
  }
 },
 "nbformat": 4,
 "nbformat_minor": 2
}
