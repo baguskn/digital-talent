{
 "cells": [
  {
   "cell_type": "markdown",
   "metadata": {},
   "source": [
    "## LATIHAN 2 - Bagus Kharisma Nusantara (Kelas A)\n",
    "\n",
    "Diberikan sekumpulan Nilai Random antara 0 sampai dengan 100 sebanyak 250 nilai. Buatlah program untuk melakukan hal berikut:\n",
    "1. Tampilkan Angka Ganjil dari ke 250 nilai tersebut\n",
    "2. Tampilkan berapa banyak yang mendapatkan nilai lebih dari 70\n",
    "3. Tampilkan standar deviasi dari sekumpulan nilai tersebut\n",
    "4. Tampilkan nilai maksimum dan minimum\n",
    "5. Tampilkan modus dari sekumpulan nilai tersebut"
   ]
  },
  {
   "cell_type": "code",
   "execution_count": null,
   "metadata": {},
   "outputs": [],
   "source": [
    "import random\n",
    "\n",
    "# GENERATE RANDOM\n",
    "nilaiTugas = []\n",
    "for i in range(250):\n",
    "    nilaiTugas.append(random.randrange(1,100,1))\n",
    "    \n",
    "print(\"# List nilainya adalah:\")\n",
    "print(nilaiTugas)"
   ]
  },
  {
   "cell_type": "code",
   "execution_count": null,
   "metadata": {},
   "outputs": [],
   "source": [
    "# 1. Tampilkan angka-angka ganjil\n",
    "nilaiTugasGanjil = []\n",
    "for i in nilaiTugas:\n",
    "    if i%2==1:\n",
    "        nilaiTugasGanjil.append(i)\n",
    "print(\"1. Nilai-nilai ganjil pada list nilai adalah:\")\n",
    "print(nilaiTugasGanjil)"
   ]
  },
  {
   "cell_type": "code",
   "execution_count": null,
   "metadata": {},
   "outputs": [],
   "source": [
    "# 2. Tampilkan berapa banyak yang mendapatkan nilai > 70\n",
    "nilaiTugas70 = []\n",
    "for i in nilaiTugas:\n",
    "    if i>70:\n",
    "        nilaiTugas70.append(i)\n",
    "print(\"2. Yang mendapatkan nilai lebih dari 70 ada sebanyak:\",len(nilaiTugas70),\"siswa\")\n",
    "print(nilaiTugas70)"
   ]
  },
  {
   "cell_type": "code",
   "execution_count": null,
   "metadata": {},
   "outputs": [],
   "source": [
    "# 3. Tampilkan berapa standar deviasinya\n",
    "print(\"3. Menghitung Standar Deviasi dari list nilai\")\n",
    "\n",
    "# PERTAMA - Hitung mean dari nilaiTugas\n",
    "total=0\n",
    "for i in nilaiTugas:\n",
    "    total=total+i\n",
    "mean=total/len(nilaiTugas)\n",
    "print(\"Mean (rata-rata) dari list nilai adalah:\",total,\"/\",len(nilaiTugas),\"=\",mean)\n",
    "\n",
    "# KEDUA - Hitung Variance-nya\n",
    "## Semua nilai di nilaiTugas dikurangi dengan Mean, lalu masing-masing dikuadratkan. \n",
    "## Semua nilai lalu dijumlahkan dan dibagi dengan n-1\n",
    "total2=0\n",
    "for i in nilaiTugas:\n",
    "    total2=total2+(i-mean)**2\n",
    "variance=total2 / (len(nilaiTugas)-1)\n",
    "print(\"Variance dari list nilai adalah:\",total2,\"/\",len(nilaiTugas)-1,\"=\",variance)\n",
    "\n",
    "# KETIGA - Hitung Standar Deviasi dengan cara menghitung akar dari Variance\n",
    "import math\n",
    "stdv = math.sqrt(variance)\n",
    "print(\"Standar deviasi dari list nilai adalah: √\",variance,\"=\",stdv)"
   ]
  },
  {
   "cell_type": "code",
   "execution_count": null,
   "metadata": {},
   "outputs": [],
   "source": [
    "# 4. Tampilkan nilai maksimum dan minimum\n",
    "x=nilaiTugas[0]\n",
    "n=nilaiTugas[0]\n",
    "for i in nilaiTugas:\n",
    "    if x<i:\n",
    "        x=i\n",
    "    if n>i:\n",
    "        n=i\n",
    "print(\"4. Nilai maksimum dari list nilai adalah:\",x)\n",
    "print(\"   Nilai minimum  dari list nilai adalah:\",n)\n",
    "    "
   ]
  },
  {
   "cell_type": "code",
   "execution_count": null,
   "metadata": {},
   "outputs": [],
   "source": [
    "# 5. Tampilkan Modus (nilai yang sering muncul) dari sekumpulan data tersebut\n",
    "\n",
    "## Membuat dictionary urut dari nilai min s.d. max dengan key \"nilai\" dan value \"frekuensi muncul\"\n",
    "nilaiTugasModus = {}\n",
    "frekuensi = 0\n",
    "for i in range(n,x+1):\n",
    "    if i in nilaiTugas: # Jika i tidak ada pada list nilai, maka tidak dimasukkan ke dictionary\n",
    "        j=0\n",
    "        for m in nilaiTugas:\n",
    "            if m==i:\n",
    "                j=j+1\n",
    "        nilaiTugasModus[i]=j\n",
    "        if frekuensi<j: frekuensi=j #Sekaligus mencari frekuensi (berapa kali muncul) tertinggi kemunculan suatu angka\n",
    "\n",
    "## Membandingkan frekuensi nilai di dictionary dengan frekuensi tertinggi yang didapatkan sebelumnya\n",
    "## Bisa jadi ada lebih dari 1 nilai yang muncul paling sering, maka dari itu, Modus saya buat sebagai List\n",
    "## Jika frekuensi tertinggi = 1 (tidak ada pengulangan kemunculan), maka tidak ada Modus\n",
    "modus = []\n",
    "if frekuensi!=1:\n",
    "    for k,v in nilaiTugasModus.items():\n",
    "        if v==frekuensi: modus.append(k)\n",
    "    print(\"5. Modus dari list nilai adalah:\",modus,\"yang muncul sebanyak\",frekuensi,\"kali\")\n",
    "else:\n",
    "    print(\"5. Modus dari list nilai adalah: Tidak ada Modus\")\n",
    "print(\"# List nilai dengan frekuensi kemunculannya:\")\n",
    "print(nilaiTugasModus)"
   ]
  },
  {
   "cell_type": "code",
   "execution_count": null,
   "metadata": {},
   "outputs": [],
   "source": [
    "import statistics\n",
    "\n",
    "a = nilaiTugas\n",
    "\n",
    "b = statistics.mean(a)\n",
    "c = statistics.median(a)\n",
    "d = statistics.mode(a)\n",
    "e = statistics.stdev(a)\n",
    "f = statistics.variance(a)\n",
    "\n",
    "print(b,c,d,e,f)"
   ]
  },
  {
   "cell_type": "code",
   "execution_count": null,
   "metadata": {},
   "outputs": [],
   "source": []
  }
 ],
 "metadata": {
  "kernelspec": {
   "display_name": "Python 3",
   "language": "python",
   "name": "python3"
  },
  "language_info": {
   "codemirror_mode": {
    "name": "ipython",
    "version": 3
   },
   "file_extension": ".py",
   "mimetype": "text/x-python",
   "name": "python",
   "nbconvert_exporter": "python",
   "pygments_lexer": "ipython3",
   "version": "3.7.0"
  }
 },
 "nbformat": 4,
 "nbformat_minor": 2
}
