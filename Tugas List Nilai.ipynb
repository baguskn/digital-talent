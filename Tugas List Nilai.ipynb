{
 "cells": [
  {
   "cell_type": "markdown",
   "metadata": {},
   "source": [
    "## LATIHAN 2 - Bagus Kharisma Nusantara (Kelas A)\n",
    "\n",
    "Diberikan sekumpulan Nilai Random antara 0 sampai dengan 100 sebanyak 250 nilai. Buatlah program untuk melakukan hal berikut:\n",
    "1. Tampilkan Angka Ganjil dari ke 250 nilai tersebut\n",
    "2. Tampilkan berapa banyak yang mendapatkan nilai lebih dari 70\n",
    "3. Tampilkan standar deviasi dari sekumpulan nilai tersebut\n",
    "4. Tampilkan nilai maksimum dan minimum\n",
    "5. Tampilkan modus dari sekumpulan nilai tersebut"
   ]
  },
  {
   "cell_type": "code",
   "execution_count": 287,
   "metadata": {},
   "outputs": [
    {
     "name": "stdout",
     "output_type": "stream",
     "text": [
      "# List nilainya adalah:\n",
      "[37, 34, 80, 78, 60, 97, 97, 64, 65, 57, 92, 99, 5, 38, 18, 74, 60, 74, 43, 79, 82, 11, 74, 85, 12, 28, 17, 53, 81, 8, 94, 57, 20, 31, 10, 73, 35, 52, 98, 32, 95, 35, 28, 59, 5, 84, 88, 17, 25, 29, 55, 94, 19, 49, 93, 5, 92, 91, 34, 32, 89, 53, 9, 40, 28, 77, 96, 73, 5, 57, 45, 19, 66, 10, 88, 60, 71, 98, 60, 47, 61, 67, 75, 92, 37, 61, 3, 35, 97, 59, 70, 73, 21, 25, 66, 84, 47, 65, 34, 48, 81, 51, 37, 63, 97, 73, 98, 75, 8, 42, 30, 60, 76, 98, 79, 40, 81, 40, 79, 4, 17, 78, 77, 32, 25, 36, 55, 83, 69, 29, 23, 1, 86, 68, 61, 49, 13, 42, 42, 66, 81, 67, 45, 31, 49, 39, 78, 40, 98, 4, 3, 55, 26, 66, 47, 33, 95, 23, 78, 67, 38, 31, 15, 62, 53, 79, 19, 71, 29, 66, 1, 1, 63, 80, 25, 9, 56, 21, 97, 56, 34, 55, 37, 83, 90, 19, 91, 88, 70, 87, 90, 27, 95, 27, 9, 96, 55, 81, 17, 69, 12, 16, 19, 35, 22, 13, 3, 92, 62, 82, 42, 39, 10, 62, 35, 93, 76, 71, 82, 79, 66, 69, 48, 41, 63, 81, 90, 78, 40, 54, 50, 44, 48, 97, 34, 72, 34, 92, 85, 87, 39, 30, 99, 62, 83, 47, 85, 26, 48, 75]\n"
     ]
    }
   ],
   "source": [
    "import random\n",
    "\n",
    "# GENERATE RANDOM\n",
    "nilaiTugas = []\n",
    "for i in range(250):\n",
    "    nilaiTugas.append(random.randrange(1,100,1))\n",
    "    \n",
    "print(\"# List nilainya adalah:\")\n",
    "print(nilaiTugas)"
   ]
  },
  {
   "cell_type": "code",
   "execution_count": 288,
   "metadata": {},
   "outputs": [
    {
     "name": "stdout",
     "output_type": "stream",
     "text": [
      "1. Nilai-nilai ganjil pada list nilai adalah:\n",
      "[37, 97, 97, 65, 57, 99, 5, 43, 79, 11, 85, 17, 53, 81, 57, 31, 73, 35, 95, 35, 59, 5, 17, 25, 29, 55, 19, 49, 93, 5, 91, 89, 53, 9, 77, 73, 5, 57, 45, 19, 71, 47, 61, 67, 75, 37, 61, 3, 35, 97, 59, 73, 21, 25, 47, 65, 81, 51, 37, 63, 97, 73, 75, 79, 81, 79, 17, 77, 25, 55, 83, 69, 29, 23, 1, 61, 49, 13, 81, 67, 45, 31, 49, 39, 3, 55, 47, 33, 95, 23, 67, 31, 15, 53, 79, 19, 71, 29, 1, 1, 63, 25, 9, 21, 97, 55, 37, 83, 19, 91, 87, 27, 95, 27, 9, 55, 81, 17, 69, 19, 35, 13, 3, 39, 35, 93, 71, 79, 69, 41, 63, 81, 97, 85, 87, 39, 99, 83, 47, 85, 75]\n"
     ]
    }
   ],
   "source": [
    "# 1. Tampilkan angka-angka ganjil\n",
    "nilaiTugasGanjil = []\n",
    "for i in nilaiTugas:\n",
    "    if i%2==1:\n",
    "        nilaiTugasGanjil.append(i)\n",
    "print(\"1. Nilai-nilai ganjil pada list nilai adalah:\")\n",
    "print(nilaiTugasGanjil)"
   ]
  },
  {
   "cell_type": "code",
   "execution_count": 289,
   "metadata": {},
   "outputs": [
    {
     "name": "stdout",
     "output_type": "stream",
     "text": [
      "2. Yang mendapatkan nilai lebih dari 70 ada sebanyak: 86 siswa\n",
      "[80, 78, 97, 97, 92, 99, 74, 74, 79, 82, 74, 85, 81, 94, 73, 98, 95, 84, 88, 94, 93, 92, 91, 89, 77, 96, 73, 88, 71, 98, 75, 92, 97, 73, 84, 81, 97, 73, 98, 75, 76, 98, 79, 81, 79, 78, 77, 83, 86, 81, 78, 98, 95, 78, 79, 71, 80, 97, 83, 90, 91, 88, 87, 90, 95, 96, 81, 92, 82, 93, 76, 71, 82, 79, 81, 90, 78, 97, 72, 92, 85, 87, 99, 83, 85, 75]\n"
     ]
    }
   ],
   "source": [
    "# 2. Tampilkan berapa banyak yang mendapatkan nilai > 70\n",
    "nilaiTugas70 = []\n",
    "for i in nilaiTugas:\n",
    "    if i>70:\n",
    "        nilaiTugas70.append(i)\n",
    "print(\"2. Yang mendapatkan nilai lebih dari 70 ada sebanyak:\",len(nilaiTugas70),\"siswa\")\n",
    "print(nilaiTugas70)"
   ]
  },
  {
   "cell_type": "code",
   "execution_count": 290,
   "metadata": {},
   "outputs": [
    {
     "name": "stdout",
     "output_type": "stream",
     "text": [
      "3. Menghitung Standar Deviasi dari list nilai\n",
      "Mean (rata-rata) dari list nilai adalah: 13537 / 250 = 54.148\n",
      "Variance dari list nilai adalah: 196039.52399999986 / 249 = 787.3073253012043\n",
      "Standar deviasi dari list nilai adalah: √ 787.3073253012043 = 28.05899722551047\n"
     ]
    }
   ],
   "source": [
    "# 3. Tampilkan berapa standar deviasinya\n",
    "print(\"3. Menghitung Standar Deviasi dari list nilai\")\n",
    "\n",
    "# PERTAMA - Hitung mean dari nilaiTugas\n",
    "total=0\n",
    "for i in nilaiTugas:\n",
    "    total=total+i\n",
    "mean=total/len(nilaiTugas)\n",
    "print(\"Mean (rata-rata) dari list nilai adalah:\",total,\"/\",len(nilaiTugas),\"=\",mean)\n",
    "\n",
    "# KEDUA - Hitung Variance-nya\n",
    "## Semua nilai di nilaiTugas dikurangi dengan Mean, lalu masing-masing dikuadratkan. \n",
    "## Semua nilai lalu dijumlahkan dan dibagi dengan n-1\n",
    "total2=0\n",
    "for i in nilaiTugas:\n",
    "    total2=total2+(i-mean)**2\n",
    "variance=total2 / (len(nilaiTugas)-1)\n",
    "print(\"Variance dari list nilai adalah:\",total2,\"/\",len(nilaiTugas)-1,\"=\",variance)\n",
    "\n",
    "# KETIGA - Hitung Standar Deviasi dengan cara menghitung akar dari Variance\n",
    "import math\n",
    "stdv = math.sqrt(variance)\n",
    "print(\"Standar deviasi dari list nilai adalah: √\",variance,\"=\",stdv)"
   ]
  },
  {
   "cell_type": "code",
   "execution_count": 291,
   "metadata": {},
   "outputs": [
    {
     "name": "stdout",
     "output_type": "stream",
     "text": [
      "4. Nilai maksimum dari list nilai adalah: 99\n",
      "   Nilai minimum  dari list nilai adalah: 1\n"
     ]
    }
   ],
   "source": [
    "# 4. Tampilkan nilai maksimum dan minimum\n",
    "x=nilaiTugas[0]\n",
    "n=nilaiTugas[0]\n",
    "for i in nilaiTugas:\n",
    "    if x<i:\n",
    "        x=i\n",
    "    if n>i:\n",
    "        n=i\n",
    "print(\"4. Nilai maksimum dari list nilai adalah:\",x)\n",
    "print(\"   Nilai minimum  dari list nilai adalah:\",n)\n",
    "    "
   ]
  },
  {
   "cell_type": "code",
   "execution_count": 292,
   "metadata": {},
   "outputs": [
    {
     "name": "stdout",
     "output_type": "stream",
     "text": [
      "5. Modus dari list nilai adalah: [34, 66, 81, 97] yang muncul sebanyak 6 kali\n",
      "# List nilai dengan frekuensi kemunculannya:\n",
      "{1: 3, 3: 3, 4: 2, 5: 4, 8: 2, 9: 3, 10: 3, 11: 1, 12: 2, 13: 2, 15: 1, 16: 1, 17: 4, 18: 1, 19: 5, 20: 1, 21: 2, 22: 1, 23: 2, 25: 4, 26: 2, 27: 2, 28: 3, 29: 3, 30: 2, 31: 3, 32: 3, 33: 1, 34: 6, 35: 5, 36: 1, 37: 4, 38: 2, 39: 3, 40: 5, 41: 1, 42: 4, 43: 1, 44: 1, 45: 2, 47: 4, 48: 4, 49: 3, 50: 1, 51: 1, 52: 1, 53: 3, 54: 1, 55: 5, 56: 2, 57: 3, 59: 2, 60: 5, 61: 3, 62: 4, 63: 3, 64: 1, 65: 2, 66: 6, 67: 3, 68: 1, 69: 3, 70: 2, 71: 3, 72: 1, 73: 4, 74: 3, 75: 3, 76: 2, 77: 2, 78: 5, 79: 5, 80: 2, 81: 6, 82: 3, 83: 3, 84: 2, 85: 3, 86: 1, 87: 2, 88: 3, 89: 1, 90: 3, 91: 2, 92: 5, 93: 2, 94: 2, 95: 3, 96: 2, 97: 6, 98: 5, 99: 2}\n"
     ]
    }
   ],
   "source": [
    "# 5. Tampilkan Modus (nilai yang sering muncul) dari sekumpulan data tersebut\n",
    "\n",
    "## Membuat dictionary urut dari nilai min s.d. max dengan key \"nilai\" dan value \"frekuensi muncul\"\n",
    "nilaiTugasModus = {}\n",
    "frekuensi = 0\n",
    "for i in range(n,x+1):\n",
    "    if i in nilaiTugas: # Jika i tidak ada pada list nilai, maka tidak dimasukkan ke dictionary\n",
    "        j=0\n",
    "        for m in nilaiTugas:\n",
    "            if m==i:\n",
    "                j=j+1\n",
    "        nilaiTugasModus[i]=j\n",
    "        if frekuensi<j: frekuensi=j #Sekaligus mencari frekuensi (berapa kali muncul) tertinggi kemunculan suatu angka\n",
    "\n",
    "## Membandingkan frekuensi nilai di dictionary dengan frekuensi tertinggi yang didapatkan sebelumnya\n",
    "## Bisa jadi ada lebih dari 1 nilai yang muncul paling sering, maka dari itu, Modus saya buat sebagai List\n",
    "## Jika frekuensi tertinggi = 1 (tidak ada pengulangan kemunculan), maka tidak ada Modus\n",
    "modus = []\n",
    "if frekuensi!=1:\n",
    "    for k,v in nilaiTugasModus.items():\n",
    "        if v==frekuensi: modus.append(k)\n",
    "    print(\"5. Modus dari list nilai adalah:\",modus,\"yang muncul sebanyak\",frekuensi,\"kali\")\n",
    "else:\n",
    "    print(\"5. Modus dari list nilai adalah: Tidak ada Modus\")\n",
    "print(\"# List nilai dengan frekuensi kemunculannya:\")\n",
    "print(nilaiTugasModus)"
   ]
  }
 ],
 "metadata": {
  "kernelspec": {
   "display_name": "Python 3",
   "language": "python",
   "name": "python3"
  },
  "language_info": {
   "codemirror_mode": {
    "name": "ipython",
    "version": 3
   },
   "file_extension": ".py",
   "mimetype": "text/x-python",
   "name": "python",
   "nbconvert_exporter": "python",
   "pygments_lexer": "ipython3",
   "version": "3.7.0"
  }
 },
 "nbformat": 4,
 "nbformat_minor": 2
}
